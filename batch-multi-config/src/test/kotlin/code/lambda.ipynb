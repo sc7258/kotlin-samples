{
 "cells": [
  {
   "cell_type": "code",
   "metadata": {
    "collapsed": true,
    "ExecuteTime": {
     "end_time": "2025-06-13T01:00:54.309419600Z",
     "start_time": "2025-06-13T01:00:54.145486Z"
    }
   },
   "source": [
    "val double = { n: Int -> n * 2 }   // 함수 값을 변수에 저장\n",
    "println(double(4))                  // 8"
   ],
   "outputs": [
    {
     "name": "stdout",
     "output_type": "stream",
     "text": [
      "8\r\n"
     ]
    }
   ],
   "execution_count": 1
  },
  {
   "metadata": {},
   "cell_type": "code",
   "outputs": [],
   "execution_count": null,
   "source": [
    "fun timesTwo(x: Int):Int { return x * 2 }   // 함수 값을 변수에 저장\n",
    "println(timesTwo(4))"
   ]
  },
  {
   "metadata": {
    "ExecuteTime": {
     "end_time": "2025-06-13T01:01:46.486006300Z",
     "start_time": "2025-06-13T01:01:46.436004800Z"
    }
   },
   "cell_type": "code",
   "source": [
    "fun operate(x: Int, action: (Int) -> Int): Int = action(x)\n",
    "\n",
    "val result = operate(10) { it + 5 }   // 15\n",
    "println(result)\n"
   ],
   "outputs": [
    {
     "name": "stdout",
     "output_type": "stream",
     "text": [
      "15\r\n"
     ]
    }
   ],
   "execution_count": 3
  },
  {
   "metadata": {
    "ExecuteTime": {
     "end_time": "2025-06-13T01:22:59.189212100Z",
     "start_time": "2025-06-13T01:22:59.123168200Z"
    }
   },
   "cell_type": "code",
   "source": "run { println(\"한 번만 실행\") }   // () -> Unit",
   "outputs": [
    {
     "name": "stdout",
     "output_type": "stream",
     "text": [
      "한 번만 실행\r\n"
     ]
    }
   ],
   "execution_count": 4
  },
  {
   "metadata": {
    "ExecuteTime": {
     "end_time": "2025-06-13T01:24:31.865825200Z",
     "start_time": "2025-06-13T01:24:31.830825700Z"
    }
   },
   "cell_type": "code",
   "source": [
    "val result = { println(\"한 번만 실행\") }\n",
    "result()\n"
   ],
   "outputs": [
    {
     "name": "stdout",
     "output_type": "stream",
     "text": [
      "한 번만 실행\r\n"
     ]
    }
   ],
   "execution_count": 8
  }
 ],
 "metadata": {
  "kernelspec": {
   "display_name": "Kotlin",
   "language": "kotlin",
   "name": "kotlin"
  },
  "language_info": {
   "name": "kotlin",
   "version": "1.9.23",
   "mimetype": "text/x-kotlin",
   "file_extension": ".kt",
   "pygments_lexer": "kotlin",
   "codemirror_mode": "text/x-kotlin",
   "nbconvert_exporter": ""
  }
 },
 "nbformat": 4,
 "nbformat_minor": 0
}
